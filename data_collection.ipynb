{
 "cells": [
  {
   "cell_type": "code",
   "execution_count": 23,
   "metadata": {},
   "outputs": [],
   "source": [
    "import pandas as pd\n",
    "import numpy as np\n",
    "import praw"
   ]
  },
  {
   "cell_type": "code",
   "execution_count": 9,
   "metadata": {},
   "outputs": [],
   "source": [
    "reddit = praw.Reddit(client_id='qbQYpEP6I6G2jA', client_secret='0vdfphd-pbKvc9lDcfQQw2MyfQw8HA', user_agent='Distinct_Respect_383')\n"
   ]
  },
  {
   "cell_type": "code",
   "execution_count": 60,
   "metadata": {},
   "outputs": [],
   "source": [
    "# getting posts from the covidvaccine subreddit\n",
    "redd = reddit.subreddit('covidvaccine').hot(limit = 200)\n",
    "df = []\n",
    "\n",
    "for post in redd:\n",
    "    df.append([post.title, post.score, post.id, post.subreddit, post.url, post.num_comments, post.selftext, post.created])\n"
   ]
  },
  {
   "cell_type": "code",
   "execution_count": 61,
   "metadata": {},
   "outputs": [],
   "source": [
    "# getting posts from the covidvaccinated subreddit\n",
    "redd2 = reddit.subreddit('covidvaccinated').hot(limit = 300)\n",
    "\n",
    "for post in redd2:\n",
    "    df.append([post.title, post.score, post.id, post.subreddit, post.url, post.num_comments, post.selftext, post.created])\n",
    "\n",
    "df = pd.DataFrame(df,columns=['title', 'score', 'id', 'subreddit', 'url', 'num_comments', 'body', 'created'])"
   ]
  },
  {
   "cell_type": "code",
   "execution_count": 62,
   "metadata": {},
   "outputs": [
    {
     "data": {
      "text/plain": [
       "(375, 8)"
      ]
     },
     "execution_count": 62,
     "metadata": {},
     "output_type": "execute_result"
    }
   ],
   "source": [
    "df.shape"
   ]
  },
  {
   "cell_type": "code",
   "execution_count": 63,
   "metadata": {},
   "outputs": [
    {
     "data": {
      "text/html": [
       "<div>\n",
       "<style scoped>\n",
       "    .dataframe tbody tr th:only-of-type {\n",
       "        vertical-align: middle;\n",
       "    }\n",
       "\n",
       "    .dataframe tbody tr th {\n",
       "        vertical-align: top;\n",
       "    }\n",
       "\n",
       "    .dataframe thead th {\n",
       "        text-align: right;\n",
       "    }\n",
       "</style>\n",
       "<table border=\"1\" class=\"dataframe\">\n",
       "  <thead>\n",
       "    <tr style=\"text-align: right;\">\n",
       "      <th></th>\n",
       "      <th>title</th>\n",
       "      <th>score</th>\n",
       "      <th>id</th>\n",
       "      <th>subreddit</th>\n",
       "      <th>url</th>\n",
       "      <th>num_comments</th>\n",
       "      <th>body</th>\n",
       "      <th>created</th>\n",
       "    </tr>\n",
       "  </thead>\n",
       "  <tbody>\n",
       "    <tr>\n",
       "      <th>0</th>\n",
       "      <td>Any deaths?</td>\n",
       "      <td>0</td>\n",
       "      <td>konc38</td>\n",
       "      <td>CovidVaccine</td>\n",
       "      <td>https://www.reddit.com/r/CovidVaccine/comments...</td>\n",
       "      <td>12</td>\n",
       "      <td>Has anyone died from the vaccine??</td>\n",
       "      <td>1.609578e+09</td>\n",
       "    </tr>\n",
       "    <tr>\n",
       "      <th>1</th>\n",
       "      <td>Can I get the covid vaccine out of state as a ...</td>\n",
       "      <td>2</td>\n",
       "      <td>koi3by</td>\n",
       "      <td>CovidVaccine</td>\n",
       "      <td>https://www.reddit.com/r/CovidVaccine/comments...</td>\n",
       "      <td>0</td>\n",
       "      <td></td>\n",
       "      <td>1.609561e+09</td>\n",
       "    </tr>\n",
       "    <tr>\n",
       "      <th>2</th>\n",
       "      <td>10 years from now....</td>\n",
       "      <td>0</td>\n",
       "      <td>koqj0r</td>\n",
       "      <td>CovidVaccine</td>\n",
       "      <td>https://i.redd.it/cczge2cv3s861.jpg</td>\n",
       "      <td>2</td>\n",
       "      <td></td>\n",
       "      <td>1.609590e+09</td>\n",
       "    </tr>\n",
       "    <tr>\n",
       "      <th>3</th>\n",
       "      <td>Post Moderna Vaccine</td>\n",
       "      <td>2</td>\n",
       "      <td>kog1gp</td>\n",
       "      <td>CovidVaccine</td>\n",
       "      <td>https://www.reddit.com/r/CovidVaccine/comments...</td>\n",
       "      <td>3</td>\n",
       "      <td>I got the vaccine on 12/26 but did not have an...</td>\n",
       "      <td>1.609554e+09</td>\n",
       "    </tr>\n",
       "    <tr>\n",
       "      <th>4</th>\n",
       "      <td>Longer vaccine side effects.</td>\n",
       "      <td>3</td>\n",
       "      <td>kocdwf</td>\n",
       "      <td>CovidVaccine</td>\n",
       "      <td>https://www.reddit.com/r/CovidVaccine/comments...</td>\n",
       "      <td>9</td>\n",
       "      <td>Has anyone experienced longer side effects fro...</td>\n",
       "      <td>1.609541e+09</td>\n",
       "    </tr>\n",
       "  </tbody>\n",
       "</table>\n",
       "</div>"
      ],
      "text/plain": [
       "                                               title  score      id  \\\n",
       "0                                        Any deaths?      0  konc38   \n",
       "1  Can I get the covid vaccine out of state as a ...      2  koi3by   \n",
       "2                              10 years from now....      0  koqj0r   \n",
       "3                               Post Moderna Vaccine      2  kog1gp   \n",
       "4                       Longer vaccine side effects.      3  kocdwf   \n",
       "\n",
       "      subreddit                                                url  \\\n",
       "0  CovidVaccine  https://www.reddit.com/r/CovidVaccine/comments...   \n",
       "1  CovidVaccine  https://www.reddit.com/r/CovidVaccine/comments...   \n",
       "2  CovidVaccine                https://i.redd.it/cczge2cv3s861.jpg   \n",
       "3  CovidVaccine  https://www.reddit.com/r/CovidVaccine/comments...   \n",
       "4  CovidVaccine  https://www.reddit.com/r/CovidVaccine/comments...   \n",
       "\n",
       "   num_comments                                               body  \\\n",
       "0            12                 Has anyone died from the vaccine??   \n",
       "1             0                                                      \n",
       "2             2                                                      \n",
       "3             3  I got the vaccine on 12/26 but did not have an...   \n",
       "4             9  Has anyone experienced longer side effects fro...   \n",
       "\n",
       "        created  \n",
       "0  1.609578e+09  \n",
       "1  1.609561e+09  \n",
       "2  1.609590e+09  \n",
       "3  1.609554e+09  \n",
       "4  1.609541e+09  "
      ]
     },
     "execution_count": 63,
     "metadata": {},
     "output_type": "execute_result"
    }
   ],
   "source": [
    "df.head()"
   ]
  },
  {
   "cell_type": "code",
   "execution_count": 64,
   "metadata": {},
   "outputs": [],
   "source": [
    "df.to_csv('data.csv')"
   ]
  },
  {
   "cell_type": "code",
   "execution_count": null,
   "metadata": {},
   "outputs": [],
   "source": []
  }
 ],
 "metadata": {
  "kernelspec": {
   "display_name": "Python 3",
   "language": "python",
   "name": "python3"
  },
  "language_info": {
   "codemirror_mode": {
    "name": "ipython",
    "version": 3
   },
   "file_extension": ".py",
   "mimetype": "text/x-python",
   "name": "python",
   "nbconvert_exporter": "python",
   "pygments_lexer": "ipython3",
   "version": "3.8.3"
  }
 },
 "nbformat": 4,
 "nbformat_minor": 4
}
