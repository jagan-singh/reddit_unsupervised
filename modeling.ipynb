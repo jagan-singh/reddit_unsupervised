{
 "cells": [
  {
   "cell_type": "code",
   "execution_count": 41,
   "metadata": {},
   "outputs": [
    {
     "name": "stderr",
     "output_type": "stream",
     "text": [
      "[nltk_data] Downloading package stopwords to\n",
      "[nltk_data]     C:\\Users\\Singh\\AppData\\Roaming\\nltk_data...\n",
      "[nltk_data]   Package stopwords is already up-to-date!\n",
      "[nltk_data] Downloading package punkt to\n",
      "[nltk_data]     C:\\Users\\Singh\\AppData\\Roaming\\nltk_data...\n",
      "[nltk_data]   Package punkt is already up-to-date!\n",
      "[nltk_data] Downloading package wordnet to\n",
      "[nltk_data]     C:\\Users\\Singh\\AppData\\Roaming\\nltk_data...\n",
      "[nltk_data]   Package wordnet is already up-to-date!\n"
     ]
    },
    {
     "data": {
      "text/plain": [
       "True"
      ]
     },
     "execution_count": 41,
     "metadata": {},
     "output_type": "execute_result"
    }
   ],
   "source": [
    "import pandas as pd\n",
    "import numpy as np\n",
    "import matplotlib.pyplot as plt\n",
    "import nltk\n",
    "from nltk.corpus import stopwords\n",
    "import string, re\n",
    "from nltk.probability import FreqDist\n",
    "nltk.download('stopwords')\n",
    "nltk.download('punkt')\n",
    "nltk.download('wordnet')"
   ]
  },
  {
   "cell_type": "code",
   "execution_count": 3,
   "metadata": {},
   "outputs": [],
   "source": [
    "df = pd.read_csv('data.csv')"
   ]
  },
  {
   "cell_type": "code",
   "execution_count": 4,
   "metadata": {},
   "outputs": [
    {
     "data": {
      "text/html": [
       "<div>\n",
       "<style scoped>\n",
       "    .dataframe tbody tr th:only-of-type {\n",
       "        vertical-align: middle;\n",
       "    }\n",
       "\n",
       "    .dataframe tbody tr th {\n",
       "        vertical-align: top;\n",
       "    }\n",
       "\n",
       "    .dataframe thead th {\n",
       "        text-align: right;\n",
       "    }\n",
       "</style>\n",
       "<table border=\"1\" class=\"dataframe\">\n",
       "  <thead>\n",
       "    <tr style=\"text-align: right;\">\n",
       "      <th></th>\n",
       "      <th>Unnamed: 0</th>\n",
       "      <th>title</th>\n",
       "      <th>score</th>\n",
       "      <th>id</th>\n",
       "      <th>subreddit</th>\n",
       "      <th>url</th>\n",
       "      <th>num_comments</th>\n",
       "      <th>body</th>\n",
       "      <th>created</th>\n",
       "    </tr>\n",
       "  </thead>\n",
       "  <tbody>\n",
       "    <tr>\n",
       "      <th>0</th>\n",
       "      <td>0</td>\n",
       "      <td>Any deaths?</td>\n",
       "      <td>0</td>\n",
       "      <td>konc38</td>\n",
       "      <td>CovidVaccine</td>\n",
       "      <td>https://www.reddit.com/r/CovidVaccine/comments...</td>\n",
       "      <td>12</td>\n",
       "      <td>Has anyone died from the vaccine??</td>\n",
       "      <td>1.609578e+09</td>\n",
       "    </tr>\n",
       "    <tr>\n",
       "      <th>1</th>\n",
       "      <td>1</td>\n",
       "      <td>Can I get the covid vaccine out of state as a ...</td>\n",
       "      <td>2</td>\n",
       "      <td>koi3by</td>\n",
       "      <td>CovidVaccine</td>\n",
       "      <td>https://www.reddit.com/r/CovidVaccine/comments...</td>\n",
       "      <td>0</td>\n",
       "      <td>NaN</td>\n",
       "      <td>1.609561e+09</td>\n",
       "    </tr>\n",
       "    <tr>\n",
       "      <th>2</th>\n",
       "      <td>2</td>\n",
       "      <td>10 years from now....</td>\n",
       "      <td>0</td>\n",
       "      <td>koqj0r</td>\n",
       "      <td>CovidVaccine</td>\n",
       "      <td>https://i.redd.it/cczge2cv3s861.jpg</td>\n",
       "      <td>2</td>\n",
       "      <td>NaN</td>\n",
       "      <td>1.609590e+09</td>\n",
       "    </tr>\n",
       "    <tr>\n",
       "      <th>3</th>\n",
       "      <td>3</td>\n",
       "      <td>Post Moderna Vaccine</td>\n",
       "      <td>2</td>\n",
       "      <td>kog1gp</td>\n",
       "      <td>CovidVaccine</td>\n",
       "      <td>https://www.reddit.com/r/CovidVaccine/comments...</td>\n",
       "      <td>3</td>\n",
       "      <td>I got the vaccine on 12/26 but did not have an...</td>\n",
       "      <td>1.609554e+09</td>\n",
       "    </tr>\n",
       "    <tr>\n",
       "      <th>4</th>\n",
       "      <td>4</td>\n",
       "      <td>Longer vaccine side effects.</td>\n",
       "      <td>3</td>\n",
       "      <td>kocdwf</td>\n",
       "      <td>CovidVaccine</td>\n",
       "      <td>https://www.reddit.com/r/CovidVaccine/comments...</td>\n",
       "      <td>9</td>\n",
       "      <td>Has anyone experienced longer side effects fro...</td>\n",
       "      <td>1.609541e+09</td>\n",
       "    </tr>\n",
       "  </tbody>\n",
       "</table>\n",
       "</div>"
      ],
      "text/plain": [
       "   Unnamed: 0                                              title  score  \\\n",
       "0           0                                        Any deaths?      0   \n",
       "1           1  Can I get the covid vaccine out of state as a ...      2   \n",
       "2           2                              10 years from now....      0   \n",
       "3           3                               Post Moderna Vaccine      2   \n",
       "4           4                       Longer vaccine side effects.      3   \n",
       "\n",
       "       id     subreddit                                                url  \\\n",
       "0  konc38  CovidVaccine  https://www.reddit.com/r/CovidVaccine/comments...   \n",
       "1  koi3by  CovidVaccine  https://www.reddit.com/r/CovidVaccine/comments...   \n",
       "2  koqj0r  CovidVaccine                https://i.redd.it/cczge2cv3s861.jpg   \n",
       "3  kog1gp  CovidVaccine  https://www.reddit.com/r/CovidVaccine/comments...   \n",
       "4  kocdwf  CovidVaccine  https://www.reddit.com/r/CovidVaccine/comments...   \n",
       "\n",
       "   num_comments                                               body  \\\n",
       "0            12                 Has anyone died from the vaccine??   \n",
       "1             0                                                NaN   \n",
       "2             2                                                NaN   \n",
       "3             3  I got the vaccine on 12/26 but did not have an...   \n",
       "4             9  Has anyone experienced longer side effects fro...   \n",
       "\n",
       "        created  \n",
       "0  1.609578e+09  \n",
       "1  1.609561e+09  \n",
       "2  1.609590e+09  \n",
       "3  1.609554e+09  \n",
       "4  1.609541e+09  "
      ]
     },
     "execution_count": 4,
     "metadata": {},
     "output_type": "execute_result"
    }
   ],
   "source": [
    "df.head()"
   ]
  },
  {
   "cell_type": "markdown",
   "metadata": {},
   "source": [
    "### Removing unwanted columns"
   ]
  },
  {
   "cell_type": "code",
   "execution_count": 6,
   "metadata": {},
   "outputs": [],
   "source": [
    "df.drop(columns = ['Unnamed: 0', 'created'], inplace = True)"
   ]
  },
  {
   "cell_type": "code",
   "execution_count": 7,
   "metadata": {},
   "outputs": [],
   "source": [
    "# Merging title and body, since some people have written everything in title "
   ]
  },
  {
   "cell_type": "code",
   "execution_count": 11,
   "metadata": {},
   "outputs": [
    {
     "data": {
      "text/plain": [
       "title           object\n",
       "score            int64\n",
       "id              object\n",
       "subreddit       object\n",
       "url             object\n",
       "num_comments     int64\n",
       "body            object\n",
       "dtype: object"
      ]
     },
     "execution_count": 11,
     "metadata": {},
     "output_type": "execute_result"
    }
   ],
   "source": [
    "df.dtypes"
   ]
  },
  {
   "cell_type": "code",
   "execution_count": 13,
   "metadata": {},
   "outputs": [],
   "source": [
    "df['text'] = df['title'].astype('str') + df['body'].astype('str')"
   ]
  },
  {
   "cell_type": "code",
   "execution_count": 15,
   "metadata": {},
   "outputs": [],
   "source": [
    "df['text'] = df['text'].astype('str')"
   ]
  },
  {
   "cell_type": "markdown",
   "metadata": {},
   "source": [
    "# Visualizations"
   ]
  },
  {
   "cell_type": "code",
   "execution_count": 20,
   "metadata": {},
   "outputs": [
    {
     "data": {
      "image/png": "[encoded data removed]",
      "text/plain": [
       "<Figure size 720x576 with 1 Axes>"
      ]
     },
     "metadata": {
      "needs_background": "light"
     },
     "output_type": "display_data"
    }
   ],
   "source": [
    "plt.figure(figsize=(10,8))\n",
    "df.score.value_counts().plot(kind = 'bar')\n",
    "plt.xticks(rotation=45)\n",
    "plt.show()\n"
   ]
  },
  {
   "cell_type": "code",
   "execution_count": 22,
   "metadata": {},
   "outputs": [
    {
     "data": {
      "text/plain": [
       "<AxesSubplot:>"
      ]
     },
     "execution_count": 22,
     "metadata": {},
     "output_type": "execute_result"
    },
    {
     "data": {
      "image/png": "[encoded data removed]",
      "text/plain": [
       "<Figure size 432x288 with 1 Axes>"
      ]
     },
     "metadata": {
      "needs_background": "light"
     },
     "output_type": "display_data"
    }
   ],
   "source": [
    "df.num_comments.hist()"
   ]
  },
  {
   "cell_type": "code",
   "execution_count": 50,
   "metadata": {},
   "outputs": [],
   "source": [
    "\n",
    "## setting stopwords and punctuations\n",
    "sw_list = stopwords.words('english')\n",
    "sw_list += list(string.punctuation)\n",
    "sw_list += [\"''\", '\"\"', '...', '``', '’', '“', '’', '”', '‘', '‘',\n",
    "           'covid', 'vaccine', 'get', 'got']\n",
    "sw_set = set(sw_list)"
   ]
  },
  {
   "cell_type": "code",
   "execution_count": 51,
   "metadata": {},
   "outputs": [],
   "source": [
    "# we can define a function to process tweets\n",
    "def process_text(text):\n",
    "    tokens = nltk.word_tokenize(text)\n",
    "    stopwords_removed = [token.lower() for token in tokens if token.lower() not in sw_set]\n",
    "    return stopwords_removed"
   ]
  },
  {
   "cell_type": "code",
   "execution_count": 52,
   "metadata": {},
   "outputs": [],
   "source": [
    "data = list(map(process_text, df['text']))"
   ]
  },
  {
   "cell_type": "code",
   "execution_count": 53,
   "metadata": {},
   "outputs": [
    {
     "data": {
      "text/plain": [
       "['deaths', 'anyone', 'died']"
      ]
     },
     "execution_count": 53,
     "metadata": {},
     "output_type": "execute_result"
    }
   ],
   "source": [
    "data[0]"
   ]
  },
  {
   "cell_type": "code",
   "execution_count": 54,
   "metadata": {},
   "outputs": [],
   "source": [
    "flat_data = [item for sublist in data for item in sublist]\n",
    "freq = FreqDist(flat_data)"
   ]
  },
  {
   "cell_type": "code",
   "execution_count": 55,
   "metadata": {},
   "outputs": [
    {
     "data": {
      "text/plain": [
       "[('first', 106),\n",
       " ('arm', 98),\n",
       " ('side', 97),\n",
       " ('shot', 95),\n",
       " ('like', 92),\n",
       " ('anyone', 83),\n",
       " ('effects', 79),\n",
       " ('pfizer', 78),\n",
       " ('moderna', 75),\n",
       " (\"'m\", 72),\n",
       " ('felt', 71),\n",
       " (\"n't\", 69),\n",
       " ('sore', 68),\n",
       " ('feel', 66),\n",
       " ('today', 63)]"
      ]
     },
     "execution_count": 55,
     "metadata": {},
     "output_type": "execute_result"
    }
   ],
   "source": [
    "freq.most_common(15)"
   ]
  },
  {
   "cell_type": "code",
   "execution_count": null,
   "metadata": {},
   "outputs": [],
   "source": []
  }
 ],
 "metadata": {
  "kernelspec": {
   "display_name": "Python 3",
   "language": "python",
   "name": "python3"
  },
  "language_info": {
   "codemirror_mode": {
    "name": "ipython",
    "version": 3
   },
   "file_extension": ".py",
   "mimetype": "text/x-python",
   "name": "python",
   "nbconvert_exporter": "python",
   "pygments_lexer": "ipython3",
   "version": "3.8.3"
  }
 },
 "nbformat": 4,
 "nbformat_minor": 4
}
